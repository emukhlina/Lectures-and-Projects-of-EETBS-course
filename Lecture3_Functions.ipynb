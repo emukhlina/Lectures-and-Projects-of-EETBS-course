{
  "nbformat": 4,
  "nbformat_minor": 0,
  "metadata": {
    "colab": {
      "provenance": []
    },
    "kernelspec": {
      "name": "python3",
      "display_name": "Python 3"
    },
    "language_info": {
      "name": "python"
    }
  },
  "cells": [
    {
      "cell_type": "code",
      "execution_count": null,
      "metadata": {
        "id": "BrT8SXkPIu_F"
      },
      "outputs": [],
      "source": [
        "#Assignment 3\n",
        "#Part A"
      ]
    },
    {
      "cell_type": "code",
      "source": [
        "materialsLibrary = {\"WoodBevelL\":{\"standardLength\":0.13,\"RValue\":0.14}, \"WoodFiberBoard\":{\"standardLength\":0.13,\"RValue\":0.23}, \"WoodStuds\":{\"standardLength\":0.9,\"RValue\":0.63}, \"GlassFiberInsulation\":{\"standardLength\":0.25,\"RValue\":0.7}, \"Gypsum\":{\"standardLength\":0.13,\"RValue\":0.079}, \"InsideAirConvection\":{\"RValue\":0.12}, \"OutsideAirConvection\":{\"RValue\":0.03},}\n",
        "materialsLibrary [\"WoodBevelL\"][\"RValue\"]"
      ],
      "metadata": {
        "colab": {
          "base_uri": "https://localhost:8080/"
        },
        "id": "Nc_fH58NtyZQ",
        "outputId": "690dc9af-8d6e-4a27-e1b8-57e403285fca"
      },
      "execution_count": null,
      "outputs": [
        {
          "output_type": "execute_result",
          "data": {
            "text/plain": [
              "0.14"
            ]
          },
          "metadata": {},
          "execution_count": 2
        }
      ]
    },
    {
      "cell_type": "code",
      "source": [
        "newResistance= {\"name\":\"R1\",\"material\":\"GlassFiberInsulation\",\"length\":0.9}\n",
        "RValue_thisResistance= materialsLibrary[newResistance[\"material\"]][\"RValue\"]/materialsLibrary[newResistance[\"material\"]][\"standardLength\"]*newResistance[\"length\"]\n",
        "RValue_thisResistance"
      ],
      "metadata": {
        "colab": {
          "base_uri": "https://localhost:8080/"
        },
        "id": "prjXD43UB18j",
        "outputId": "6296c601-f382-49ce-a9fe-dda5b82fbb16"
      },
      "execution_count": null,
      "outputs": [
        {
          "output_type": "execute_result",
          "data": {
            "text/plain": [
              "2.52"
            ]
          },
          "metadata": {},
          "execution_count": 7
        }
      ]
    },
    {
      "cell_type": "code",
      "source": [
        "# Find R'_withWood\n",
        "R_period_withWood = materialsLibrary [\"WoodBevelL\"][\"RValue\"] + materialsLibrary [\"WoodFiberBoard\"][\"RValue\"] + materialsLibrary [\"WoodStuds\"][\"RValue\"] + materialsLibrary [\"Gypsum\"][\"RValue\"] + materialsLibrary [\"InsideAirConvection\"][\"RValue\"] + materialsLibrary [\"OutsideAirConvection\"][\"RValue\"]\n",
        "R_period_withWood = round( R_period_withWood, 3)\n",
        "R_period_withWood"
      ],
      "metadata": {
        "colab": {
          "base_uri": "https://localhost:8080/"
        },
        "id": "tsJsi3tVCO6U",
        "outputId": "4496686a-c317-4f14-9bf3-2f1fd75cabf3"
      },
      "execution_count": null,
      "outputs": [
        {
          "output_type": "execute_result",
          "data": {
            "text/plain": [
              "1.229"
            ]
          },
          "metadata": {},
          "execution_count": 8
        }
      ]
    },
    {
      "cell_type": "code",
      "source": [
        "# Find R'_withInsulation\n",
        "R_period_withInsulation = materialsLibrary [\"WoodBevelL\"][\"RValue\"] + materialsLibrary [\"WoodFiberBoard\"][\"RValue\"] + RValue_thisResistance + materialsLibrary [\"Gypsum\"][\"RValue\"] + materialsLibrary [\"InsideAirConvection\"][\"RValue\"] + materialsLibrary [\"OutsideAirConvection\"][\"RValue\"]\n",
        "R_period_withInsulation = round( R_period_withInsulation, 3)\n",
        "R_period_withInsulation"
      ],
      "metadata": {
        "colab": {
          "base_uri": "https://localhost:8080/"
        },
        "id": "kuUZRCcOEiLw",
        "outputId": "ce6892d6-f551-40b0-cb06-6b661f0cbe5d"
      },
      "execution_count": null,
      "outputs": [
        {
          "output_type": "execute_result",
          "data": {
            "text/plain": [
              "3.119"
            ]
          },
          "metadata": {},
          "execution_count": 9
        }
      ]
    },
    {
      "cell_type": "code",
      "source": [
        "#Finding R'_airgap"
      ],
      "metadata": {
        "id": "cY6w2XiHuQnH"
      },
      "execution_count": null,
      "outputs": []
    },
    {
      "cell_type": "code",
      "source": [
        "def epsilonEffective(epsilon1=0.9,epsilon2=0.05):\n",
        "  \"\"\"This function gives us the effective epsilon in an air gap\n",
        "  by using the epsilon values of both surfaces, in the case of default value\n",
        "  of epsilon1 being 0.9 and epsilon2 being 0.05, which represents normal building material\"\"\"\n",
        "  resulting_epsilon_effective=round(1/(1/epsilon1+1/epsilon2-1),2)\n",
        "  return resulting_epsilon_effective"
      ],
      "metadata": {
        "id": "TG3hDNNw3x7r"
      },
      "execution_count": null,
      "outputs": []
    },
    {
      "cell_type": "code",
      "source": [
        "epsilonEffective()"
      ],
      "metadata": {
        "colab": {
          "base_uri": "https://localhost:8080/"
        },
        "id": "I9USvMCR4Mea",
        "outputId": "6ed6c50e-005c-4bb2-8d40-46d64f6da80b"
      },
      "execution_count": null,
      "outputs": [
        {
          "output_type": "execute_result",
          "data": {
            "text/plain": [
              "0.05"
            ]
          },
          "metadata": {},
          "execution_count": 11
        }
      ]
    },
    {
      "cell_type": "code",
      "source": [
        "help(epsilonEffective)"
      ],
      "metadata": {
        "colab": {
          "base_uri": "https://localhost:8080/"
        },
        "id": "_YPVDwlr5mNI",
        "outputId": "227610c8-d038-4c78-b4fb-b795d7381599"
      },
      "execution_count": null,
      "outputs": [
        {
          "output_type": "stream",
          "name": "stdout",
          "text": [
            "Help on function epsilonEffective in module __main__:\n",
            "\n",
            "epsilonEffective(epsilon1=0.9, epsilon2=0.05)\n",
            "    This function gives us the effective epsilon in an air gap\n",
            "    by using the epsilon values of both surfaces, in the case of default value\n",
            "    of epsilon1 being 0.9 and epsilon2 being 0.05, which represents normal building material\n",
            "\n"
          ]
        }
      ]
    },
    {
      "cell_type": "code",
      "source": [
        "AirGapsLibrary= {20:{0.03:0.65, 0.05:0.61, 0.5:0.25, 0.82:0.18}, 40:{0.03:0.67, 0.05:0.62, 0.5:0.26, 0.82:0.18}, 90:{0.03:0.64, 0.05:0.60, 0.5:0.25, 0.82:0.18}}"
      ],
      "metadata": {
        "id": "2AtobHO8xj8C"
      },
      "execution_count": null,
      "outputs": []
    },
    {
      "cell_type": "code",
      "source": [
        "R_period_airgap=AirGapsLibrary[40][0.05]\n",
        "R_period_airgap"
      ],
      "metadata": {
        "colab": {
          "base_uri": "https://localhost:8080/"
        },
        "id": "EvFE2lg73A_v",
        "outputId": "d0322d36-ed44-4428-dfa5-f3707f6f336c"
      },
      "execution_count": null,
      "outputs": [
        {
          "output_type": "execute_result",
          "data": {
            "text/plain": [
              "0.62"
            ]
          },
          "metadata": {},
          "execution_count": 14
        }
      ]
    },
    {
      "cell_type": "code",
      "source": [
        "#Another data for calculation\n",
        "fWood = 0.25\n",
        "fInsulation = 0.75\n",
        "A_tot = 50*2.5*0.8 #0.8 because 20% is occupied by windows\n",
        "deltaT = 24 #difference of temperatures in and out"
      ],
      "metadata": {
        "id": "PnraAHiVGcMr"
      },
      "execution_count": null,
      "outputs": []
    },
    {
      "cell_type": "code",
      "source": [
        "U_withWood = round(1/ R_period_withWood, 4)\n",
        "U_withInsulation = round(1/ R_period_withInsulation, 4)\n",
        "U_withAirgap = round(1/R_period_airgap, 4)"
      ],
      "metadata": {
        "id": "DjpWep8eVvC9"
      },
      "execution_count": null,
      "outputs": []
    },
    {
      "cell_type": "code",
      "source": [
        "U_tot = round(fWood*U_withWood + fInsulation*U_withInsulation + U_withAirgap, 4)"
      ],
      "metadata": {
        "id": "qshnAIezVyqL"
      },
      "execution_count": null,
      "outputs": []
    },
    {
      "cell_type": "code",
      "source": [
        "# Heat losses through the wall\n",
        "Q = round(U_tot*A_tot*deltaT, 1)\n",
        "Q"
      ],
      "metadata": {
        "id": "rgaSUm5uV1Xt",
        "outputId": "5a637b88-b5c7-4389-a326-8acbd503586a",
        "colab": {
          "base_uri": "https://localhost:8080/"
        }
      },
      "execution_count": null,
      "outputs": [
        {
          "output_type": "execute_result",
          "data": {
            "text/plain": [
              "4936.3"
            ]
          },
          "metadata": {},
          "execution_count": 18
        }
      ]
    },
    {
      "cell_type": "code",
      "source": [
        "# Total resistance\n",
        "R_tot = round((R_period_withInsulation*R_period_withWood/(R_period_withInsulation+R_period_withWood)+R_period_airgap)/A_tot, 3)\n",
        "R_tot"
      ],
      "metadata": {
        "colab": {
          "base_uri": "https://localhost:8080/"
        },
        "id": "4ulN73fkvSK_",
        "outputId": "60a6d318-a64d-424c-ad5f-242fd753c869"
      },
      "execution_count": null,
      "outputs": [
        {
          "output_type": "execute_result",
          "data": {
            "text/plain": [
              "0.015"
            ]
          },
          "metadata": {},
          "execution_count": 19
        }
      ]
    },
    {
      "cell_type": "code",
      "source": [
        "#Part B"
      ],
      "metadata": {
        "id": "ez3Q1gX7dfkD"
      },
      "execution_count": null,
      "outputs": []
    },
    {
      "cell_type": "code",
      "source": [
        "def R_calculated(materialsLibrary,newResistance,AirGapsLibrary,fWood,fInsulation,A_tot,deltaT):\n",
        "  \"\"\" This function calculates  \"\"\"\n",
        "\n",
        "  R_period_withWood = materialsLibrary [\"WoodBevelL\"][\"RValue\"] + materialsLibrary [\"WoodFiberBoard\"][\"RValue\"] + materialsLibrary [\"WoodStuds\"][\"RValue\"] + materialsLibrary [\"Gypsum\"][\"RValue\"] + materialsLibrary [\"InsideAirConvection\"][\"RValue\"] + materialsLibrary [\"OutsideAirConvection\"][\"RValue\"];\n",
        "  R_period_withWood = round( R_period_withWood, 3);\n",
        "  R_period_withInsulation = materialsLibrary [\"WoodBevelL\"][\"RValue\"] + materialsLibrary [\"WoodFiberBoard\"][\"RValue\"] + RValue_thisResistance + materialsLibrary [\"Gypsum\"][\"RValue\"] + materialsLibrary [\"InsideAirConvection\"][\"RValue\"] + materialsLibrary [\"OutsideAirConvection\"][\"RValue\"];\n",
        "  R_period_withInsulation = round( R_period_withInsulation, 3);\n",
        "  resulting_epsilon_effective=round(1/(1/0.9+1/0.05-1),2);\n",
        "  R_period_airgap=AirGapsLibrary[40][0.05];\n",
        "  U_withWood = round(1/ R_period_withWood, 4);\n",
        "  U_withInsulation = round(1/ R_period_withInsulation, 4);\n",
        "  U_withAirgap = round(1/R_period_airgap, 4);\n",
        "  U_tot = round(fWood*U_withWood + fInsulation*U_withInsulation + U_withAirgap, 4);\n",
        "  Q = round(U_tot*A_tot*deltaT, 1);\n",
        "  R_tot = round((R_period_withInsulation*R_period_withWood/(R_period_withInsulation+R_period_withWood)+R_period_airgap)/A_tot, 3);\n",
        "\n",
        "  return R_tot"
      ],
      "metadata": {
        "id": "XqLj80nrdh9u"
      },
      "execution_count": null,
      "outputs": []
    },
    {
      "cell_type": "code",
      "source": [
        "R_calculated(materialsLibrary,newResistance,AirGapsLibrary,fWood,fInsulation,A_tot,deltaT)"
      ],
      "metadata": {
        "colab": {
          "base_uri": "https://localhost:8080/"
        },
        "id": "bY1QUjmtjLyI",
        "outputId": "93b8bc99-0d14-4c72-c548-93244c6a067d"
      },
      "execution_count": null,
      "outputs": [
        {
          "output_type": "execute_result",
          "data": {
            "text/plain": [
              "0.015"
            ]
          },
          "metadata": {},
          "execution_count": 21
        }
      ]
    }
  ]
}
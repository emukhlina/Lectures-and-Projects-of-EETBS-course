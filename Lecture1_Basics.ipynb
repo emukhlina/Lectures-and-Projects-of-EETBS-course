{
  "nbformat": 4,
  "nbformat_minor": 0,
  "metadata": {
    "colab": {
      "provenance": []
    },
    "kernelspec": {
      "name": "python3",
      "display_name": "Python 3"
    },
    "language_info": {
      "name": "python"
    }
  },
  "cells": [
    {
      "cell_type": "markdown",
      "source": [
        "\n",
        "## Types of objects in Python"
      ],
      "metadata": {
        "id": "vG9Ja4p5nbPA"
      }
    },
    {
      "cell_type": "markdown",
      "source": [
        "#Scalar objects in Python\n",
        "\n",
        "* int: represents an integer\n",
        "* float: represents a real number\n",
        "* bool: represents a boolean value !\n"
      ],
      "metadata": {
        "id": "-6BCJJYEnpUi"
      }
    },
    {
      "cell_type": "code",
      "execution_count": null,
      "metadata": {
        "id": "VqBY8TruifzH",
        "colab": {
          "base_uri": "https://localhost:8080/"
        },
        "outputId": "402b6d48-8aa1-4e72-9b6f-37874572ece0"
      },
      "outputs": [
        {
          "output_type": "execute_result",
          "data": {
            "text/plain": [
              "int"
            ]
          },
          "metadata": {},
          "execution_count": 1
        }
      ],
      "source": [
        "type(5)"
      ]
    },
    {
      "cell_type": "code",
      "source": [
        "type(5.0)"
      ],
      "metadata": {
        "colab": {
          "base_uri": "https://localhost:8080/"
        },
        "id": "iudiDRRoobZU",
        "outputId": "dc33fc8c-a958-46a7-b8b3-d241c539a4d3"
      },
      "execution_count": null,
      "outputs": [
        {
          "output_type": "execute_result",
          "data": {
            "text/plain": [
              "float"
            ]
          },
          "metadata": {},
          "execution_count": 2
        }
      ]
    },
    {
      "cell_type": "code",
      "source": [
        "type(15.5)"
      ],
      "metadata": {
        "colab": {
          "base_uri": "https://localhost:8080/"
        },
        "id": "y9lqgCCfonxJ",
        "outputId": "c2ab230b-64fc-4588-abfa-8478bbce9472"
      },
      "execution_count": null,
      "outputs": [
        {
          "output_type": "execute_result",
          "data": {
            "text/plain": [
              "float"
            ]
          },
          "metadata": {},
          "execution_count": 3
        }
      ]
    },
    {
      "cell_type": "code",
      "source": [
        "type(True)"
      ],
      "metadata": {
        "colab": {
          "base_uri": "https://localhost:8080/"
        },
        "id": "fsjQHEg-osPM",
        "outputId": "965e99fd-bcf0-46b9-def2-88f8049a3c6e"
      },
      "execution_count": null,
      "outputs": [
        {
          "output_type": "execute_result",
          "data": {
            "text/plain": [
              "bool"
            ]
          },
          "metadata": {},
          "execution_count": 4
        }
      ]
    },
    {
      "cell_type": "code",
      "source": [
        "type(False)"
      ],
      "metadata": {
        "colab": {
          "base_uri": "https://localhost:8080/"
        },
        "id": "N8M97OdZoz21",
        "outputId": "5534f929-ea5c-464b-8f7d-d479cd746485"
      },
      "execution_count": null,
      "outputs": [
        {
          "output_type": "execute_result",
          "data": {
            "text/plain": [
              "bool"
            ]
          },
          "metadata": {},
          "execution_count": 5
        }
      ]
    },
    {
      "cell_type": "code",
      "source": [
        "(5+4)*3"
      ],
      "metadata": {
        "colab": {
          "base_uri": "https://localhost:8080/"
        },
        "id": "RepZDxAPo3vW",
        "outputId": "b72be99f-8b09-4766-b0de-df5abeb7ea8f"
      },
      "execution_count": null,
      "outputs": [
        {
          "output_type": "execute_result",
          "data": {
            "text/plain": [
              "27"
            ]
          },
          "metadata": {},
          "execution_count": 6
        }
      ]
    },
    {
      "cell_type": "markdown",
      "source": [
        "### comparison"
      ],
      "metadata": {
        "id": "fEykDtvFo7Yy"
      }
    },
    {
      "cell_type": "code",
      "source": [
        "3>5"
      ],
      "metadata": {
        "colab": {
          "base_uri": "https://localhost:8080/"
        },
        "id": "6_9nywE7pCNR",
        "outputId": "c87ac421-f88b-46fd-94e6-3554eb5b1538"
      },
      "execution_count": null,
      "outputs": [
        {
          "output_type": "execute_result",
          "data": {
            "text/plain": [
              "False"
            ]
          },
          "metadata": {},
          "execution_count": 7
        }
      ]
    },
    {
      "cell_type": "code",
      "source": [
        "3>=3"
      ],
      "metadata": {
        "colab": {
          "base_uri": "https://localhost:8080/"
        },
        "id": "7aVLruexpTKC",
        "outputId": "cc7d87e1-5d55-487e-ad28-430aaad1c753"
      },
      "execution_count": null,
      "outputs": [
        {
          "output_type": "execute_result",
          "data": {
            "text/plain": [
              "True"
            ]
          },
          "metadata": {},
          "execution_count": 8
        }
      ]
    },
    {
      "cell_type": "code",
      "source": [
        "4==4"
      ],
      "metadata": {
        "colab": {
          "base_uri": "https://localhost:8080/"
        },
        "id": "whFDVPIhpWZ5",
        "outputId": "14390a60-d182-40bc-909c-932f276de3d1"
      },
      "execution_count": null,
      "outputs": [
        {
          "output_type": "execute_result",
          "data": {
            "text/plain": [
              "True"
            ]
          },
          "metadata": {},
          "execution_count": 9
        }
      ]
    },
    {
      "cell_type": "code",
      "source": [
        "5 != 6"
      ],
      "metadata": {
        "colab": {
          "base_uri": "https://localhost:8080/"
        },
        "id": "jaEWVBXNpdOu",
        "outputId": "e1c1a4e1-13dd-42eb-ea7c-df6d96061b42"
      },
      "execution_count": null,
      "outputs": [
        {
          "output_type": "execute_result",
          "data": {
            "text/plain": [
              "True"
            ]
          },
          "metadata": {},
          "execution_count": 10
        }
      ]
    },
    {
      "cell_type": "code",
      "source": [
        "Elvin = 5"
      ],
      "metadata": {
        "id": "UXqUVwrUplSr"
      },
      "execution_count": null,
      "outputs": []
    },
    {
      "cell_type": "markdown",
      "source": [
        "### Boolean opeartions !"
      ],
      "metadata": {
        "id": "ivH2P9KsqJrI"
      }
    },
    {
      "cell_type": "code",
      "source": [
        "a=True"
      ],
      "metadata": {
        "id": "9fhwwwaxqMjW"
      },
      "execution_count": null,
      "outputs": []
    },
    {
      "cell_type": "code",
      "source": [
        "b=False"
      ],
      "metadata": {
        "id": "AkW_rTBnqOaI"
      },
      "execution_count": null,
      "outputs": []
    },
    {
      "cell_type": "code",
      "source": [
        "a or b"
      ],
      "metadata": {
        "colab": {
          "base_uri": "https://localhost:8080/"
        },
        "id": "srEiul_2qPcy",
        "outputId": "7d302db3-9cd8-41d3-e75c-1518019c582e"
      },
      "execution_count": null,
      "outputs": [
        {
          "output_type": "execute_result",
          "data": {
            "text/plain": [
              "True"
            ]
          },
          "metadata": {},
          "execution_count": 14
        }
      ]
    },
    {
      "cell_type": "code",
      "source": [
        "a and b"
      ],
      "metadata": {
        "colab": {
          "base_uri": "https://localhost:8080/"
        },
        "id": "Z2XREOCYqeC0",
        "outputId": "0315f6f6-29ab-43e4-d5e9-1c98dd2fa529"
      },
      "execution_count": null,
      "outputs": [
        {
          "output_type": "execute_result",
          "data": {
            "text/plain": [
              "False"
            ]
          },
          "metadata": {},
          "execution_count": 15
        }
      ]
    },
    {
      "cell_type": "code",
      "source": [
        "not a"
      ],
      "metadata": {
        "colab": {
          "base_uri": "https://localhost:8080/"
        },
        "id": "xOPtb2olqhQ4",
        "outputId": "d3224912-31fd-4d7f-84c6-9c746605b749"
      },
      "execution_count": null,
      "outputs": [
        {
          "output_type": "execute_result",
          "data": {
            "text/plain": [
              "False"
            ]
          },
          "metadata": {},
          "execution_count": 16
        }
      ]
    },
    {
      "cell_type": "markdown",
      "source": [
        "### type casting !"
      ],
      "metadata": {
        "id": "WIKn7LkmqlNu"
      }
    },
    {
      "cell_type": "code",
      "source": [
        "int(15.6)"
      ],
      "metadata": {
        "colab": {
          "base_uri": "https://localhost:8080/"
        },
        "id": "dpvIr54mq40o",
        "outputId": "dfdda337-9eb4-4970-8a56-159e8fd4e32a"
      },
      "execution_count": null,
      "outputs": [
        {
          "output_type": "execute_result",
          "data": {
            "text/plain": [
              "15"
            ]
          },
          "metadata": {},
          "execution_count": 17
        }
      ]
    },
    {
      "cell_type": "code",
      "source": [
        "float(3)"
      ],
      "metadata": {
        "colab": {
          "base_uri": "https://localhost:8080/"
        },
        "id": "lZeXpLqJqosv",
        "outputId": "a5b04bda-fb0b-4a20-979d-bce6930d6cb8"
      },
      "execution_count": null,
      "outputs": [
        {
          "output_type": "execute_result",
          "data": {
            "text/plain": [
              "3.0"
            ]
          },
          "metadata": {},
          "execution_count": 18
        }
      ]
    },
    {
      "cell_type": "markdown",
      "source": [
        "### LEt's solve our beloved problem !"
      ],
      "metadata": {
        "id": "S_YI63L4rNBf"
      }
    },
    {
      "cell_type": "code",
      "source": [
        "L = 0.3 # length\n",
        "A=15 #Area\n",
        "k=0.9 #Conduct"
      ],
      "metadata": {
        "id": "xaKoql8LrW8i"
      },
      "execution_count": null,
      "outputs": []
    },
    {
      "cell_type": "code",
      "source": [
        "R_cond = L/(k*A)"
      ],
      "metadata": {
        "id": "iF6BkR1grlSf"
      },
      "execution_count": null,
      "outputs": []
    },
    {
      "cell_type": "code",
      "source": [
        "R_cond"
      ],
      "metadata": {
        "colab": {
          "base_uri": "https://localhost:8080/"
        },
        "id": "5_5zoh0lrvEj",
        "outputId": "39791ad9-e3b3-4910-87b6-6e6af0f73f60"
      },
      "execution_count": null,
      "outputs": [
        {
          "output_type": "execute_result",
          "data": {
            "text/plain": [
              "0.022222222222222223"
            ]
          },
          "metadata": {},
          "execution_count": 21
        }
      ]
    },
    {
      "cell_type": "markdown",
      "source": [
        "##### Question !"
      ],
      "metadata": {
        "id": "218ULTP9r1eT"
      }
    },
    {
      "cell_type": "code",
      "source": [
        "k=10\n",
        "print(R_cond)"
      ],
      "metadata": {
        "colab": {
          "base_uri": "https://localhost:8080/"
        },
        "id": "q0QunfOdr0iP",
        "outputId": "6ea9b4aa-b1cd-43f6-b10b-da9372ec9417"
      },
      "execution_count": null,
      "outputs": [
        {
          "output_type": "stream",
          "name": "stdout",
          "text": [
            "0.022222222222222223\n"
          ]
        }
      ]
    },
    {
      "cell_type": "markdown",
      "source": [
        "## Non-scalar objects"
      ],
      "metadata": {
        "id": "RH0M5J5Nsu1C"
      }
    },
    {
      "cell_type": "markdown",
      "source": [
        "### Strings !"
      ],
      "metadata": {
        "id": "GuVUuhhZs7ZP"
      }
    },
    {
      "cell_type": "code",
      "source": [
        "name1= \"Davud\""
      ],
      "metadata": {
        "id": "w9xbdnxqs_Sf"
      },
      "execution_count": null,
      "outputs": []
    },
    {
      "cell_type": "code",
      "source": [
        "type(name1)"
      ],
      "metadata": {
        "colab": {
          "base_uri": "https://localhost:8080/"
        },
        "id": "ucijqQbotGiB",
        "outputId": "f419ec54-9c5d-47a2-c1e1-6dcd712a61e3"
      },
      "execution_count": null,
      "outputs": [
        {
          "output_type": "execute_result",
          "data": {
            "text/plain": [
              "str"
            ]
          },
          "metadata": {},
          "execution_count": 24
        }
      ]
    },
    {
      "cell_type": "code",
      "source": [
        "type(\"123\")"
      ],
      "metadata": {
        "colab": {
          "base_uri": "https://localhost:8080/"
        },
        "id": "g2JlcEL5tIqF",
        "outputId": "a4b3bf0d-822e-4b29-9a8c-5f40ba9d28a2"
      },
      "execution_count": null,
      "outputs": [
        {
          "output_type": "execute_result",
          "data": {
            "text/plain": [
              "str"
            ]
          },
          "metadata": {},
          "execution_count": 25
        }
      ]
    },
    {
      "cell_type": "code",
      "source": [],
      "metadata": {
        "id": "ig_NN7mWtUxQ"
      },
      "execution_count": null,
      "outputs": []
    },
    {
      "cell_type": "code",
      "source": [
        "3*name1"
      ],
      "metadata": {
        "colab": {
          "base_uri": "https://localhost:8080/",
          "height": 35
        },
        "id": "G-Lvqo-NtO8t",
        "outputId": "f5535e63-c3de-4261-f1a7-9cf0818eda62"
      },
      "execution_count": null,
      "outputs": [
        {
          "output_type": "execute_result",
          "data": {
            "text/plain": [
              "'DavudDavudDavud'"
            ],
            "application/vnd.google.colaboratory.intrinsic+json": {
              "type": "string"
            }
          },
          "metadata": {},
          "execution_count": 26
        }
      ]
    },
    {
      "cell_type": "code",
      "source": [
        "name1+\" Number \"+str(1)"
      ],
      "metadata": {
        "colab": {
          "base_uri": "https://localhost:8080/",
          "height": 35
        },
        "id": "lQvedCGntU9Y",
        "outputId": "e56fe631-03c5-4412-dc4d-47e2487d6070"
      },
      "execution_count": null,
      "outputs": [
        {
          "output_type": "execute_result",
          "data": {
            "text/plain": [
              "'Davud Number 1'"
            ],
            "application/vnd.google.colaboratory.intrinsic+json": {
              "type": "string"
            }
          },
          "metadata": {},
          "execution_count": 27
        }
      ]
    },
    {
      "cell_type": "markdown",
      "source": [
        "### Indexing: Extracting parts of strings !"
      ],
      "metadata": {
        "id": "f0i_aURpt7RV"
      }
    },
    {
      "cell_type": "code",
      "source": [
        "name1[0]"
      ],
      "metadata": {
        "colab": {
          "base_uri": "https://localhost:8080/",
          "height": 35
        },
        "id": "FEhgMs7ux602",
        "outputId": "d8b3fa60-6d17-4d03-9c8f-f430d5dc3c57"
      },
      "execution_count": null,
      "outputs": [
        {
          "output_type": "execute_result",
          "data": {
            "text/plain": [
              "'D'"
            ],
            "application/vnd.google.colaboratory.intrinsic+json": {
              "type": "string"
            }
          },
          "metadata": {},
          "execution_count": 28
        }
      ]
    },
    {
      "cell_type": "code",
      "source": [
        "name1[2]"
      ],
      "metadata": {
        "colab": {
          "base_uri": "https://localhost:8080/",
          "height": 35
        },
        "id": "s4sfyo7fyH5Z",
        "outputId": "1c17953d-19a9-429c-f78c-ff740cd22d1a"
      },
      "execution_count": null,
      "outputs": [
        {
          "output_type": "execute_result",
          "data": {
            "text/plain": [
              "'v'"
            ],
            "application/vnd.google.colaboratory.intrinsic+json": {
              "type": "string"
            }
          },
          "metadata": {},
          "execution_count": 29
        }
      ]
    },
    {
      "cell_type": "code",
      "source": [
        "name1[-1]"
      ],
      "metadata": {
        "colab": {
          "base_uri": "https://localhost:8080/",
          "height": 35
        },
        "id": "Gq7t8W5JyRm5",
        "outputId": "a05162a7-a434-46b8-a53f-a3a07040fc04"
      },
      "execution_count": null,
      "outputs": [
        {
          "output_type": "execute_result",
          "data": {
            "text/plain": [
              "'d'"
            ],
            "application/vnd.google.colaboratory.intrinsic+json": {
              "type": "string"
            }
          },
          "metadata": {},
          "execution_count": 30
        }
      ]
    },
    {
      "cell_type": "code",
      "source": [
        "name1[1:3] # It is till and not including !"
      ],
      "metadata": {
        "colab": {
          "base_uri": "https://localhost:8080/",
          "height": 35
        },
        "id": "AXEqKdfTyXay",
        "outputId": "be6c37e0-f9eb-4104-d246-2e447f4dc2f4"
      },
      "execution_count": null,
      "outputs": [
        {
          "output_type": "execute_result",
          "data": {
            "text/plain": [
              "'av'"
            ],
            "application/vnd.google.colaboratory.intrinsic+json": {
              "type": "string"
            }
          },
          "metadata": {},
          "execution_count": 31
        }
      ]
    },
    {
      "cell_type": "code",
      "source": [
        "name1[2:]"
      ],
      "metadata": {
        "colab": {
          "base_uri": "https://localhost:8080/",
          "height": 35
        },
        "id": "0o0fqopPythJ",
        "outputId": "1518cd75-01b6-48dd-ae60-06917ef4db22"
      },
      "execution_count": null,
      "outputs": [
        {
          "output_type": "execute_result",
          "data": {
            "text/plain": [
              "'vud'"
            ],
            "application/vnd.google.colaboratory.intrinsic+json": {
              "type": "string"
            }
          },
          "metadata": {},
          "execution_count": 32
        }
      ]
    },
    {
      "cell_type": "markdown",
      "source": [
        "### Our problem again"
      ],
      "metadata": {
        "id": "uomgK2kLy_9u"
      }
    },
    {
      "cell_type": "code",
      "source": [
        "L=0.3 # Length\n",
        "A=15 # Area\n",
        "k=0.9 #conductivity !\n",
        "R_cond = L/(k*A)"
      ],
      "metadata": {
        "id": "AnuR-3w_y2Yk"
      },
      "execution_count": null,
      "outputs": []
    },
    {
      "cell_type": "code",
      "source": [
        "print(R_cond)"
      ],
      "metadata": {
        "colab": {
          "base_uri": "https://localhost:8080/"
        },
        "id": "pNfwmiuOzSr4",
        "outputId": "b1dc2910-e335-4310-93ec-05f7e80b0513"
      },
      "execution_count": null,
      "outputs": [
        {
          "output_type": "stream",
          "name": "stdout",
          "text": [
            "0.022222222222222223\n"
          ]
        }
      ]
    },
    {
      "cell_type": "code",
      "source": [
        "R_cond_rounded= round(R_cond,3)"
      ],
      "metadata": {
        "id": "u5jp49pv0N1a"
      },
      "execution_count": null,
      "outputs": []
    },
    {
      "cell_type": "code",
      "source": [
        "print(\"The resistance is \"+str(R_cond_rounded)+ \" DegC/W\")"
      ],
      "metadata": {
        "colab": {
          "base_uri": "https://localhost:8080/"
        },
        "id": "L9a76YjyzWpT",
        "outputId": "eb16ec45-ea16-4973-be6d-dbe79eeb5c33"
      },
      "execution_count": null,
      "outputs": [
        {
          "output_type": "stream",
          "name": "stdout",
          "text": [
            "The resistance is 0.022 DegC/W\n"
          ]
        }
      ]
    },
    {
      "cell_type": "markdown",
      "source": [
        "### Conditionals"
      ],
      "metadata": {
        "id": "ubdb0xui0bWQ"
      }
    },
    {
      "cell_type": "code",
      "source": [
        "L=0.3 # Length\n",
        "A=15 # Area\n",
        "material=\"Juan\"\n",
        "if material == \"glass\":\n",
        "  k=0.78\n",
        "  R_cond_round=round(L/(k*A),3)\n",
        "elif material ==\"air\":\n",
        "  k=0.026\n",
        "  R_cond_round=round(L/(k*A),3)\n",
        "else:\n",
        "  k=\"not defined\"\n",
        "  R_cond_round=\"not defined\"\n",
        "print(\"The resistance is \"+str(R_cond_round)+ \" DegC/W\")\n"
      ],
      "metadata": {
        "colab": {
          "base_uri": "https://localhost:8080/"
        },
        "id": "n1LW6JB50aUC",
        "outputId": "eb115572-b061-4455-d888-b7e631f78b60"
      },
      "execution_count": null,
      "outputs": [
        {
          "output_type": "stream",
          "name": "stdout",
          "text": [
            "The resistance is not defined DegC/W\n"
          ]
        }
      ]
    },
    {
      "cell_type": "markdown",
      "source": [
        "## Lists !"
      ],
      "metadata": {
        "id": "KoReNDQV23f9"
      }
    },
    {
      "cell_type": "code",
      "source": [
        "L1= [1,2,3,4]"
      ],
      "metadata": {
        "id": "TQjy8GQ01m3h"
      },
      "execution_count": null,
      "outputs": []
    },
    {
      "cell_type": "code",
      "source": [
        "L1"
      ],
      "metadata": {
        "colab": {
          "base_uri": "https://localhost:8080/"
        },
        "id": "nQ4B1H_G2_5b",
        "outputId": "01fed5c0-e9b3-4348-cbf4-b34895215066"
      },
      "execution_count": null,
      "outputs": [
        {
          "output_type": "execute_result",
          "data": {
            "text/plain": [
              "[1, 2, 3, 4]"
            ]
          },
          "metadata": {},
          "execution_count": 39
        }
      ]
    },
    {
      "cell_type": "code",
      "source": [
        "L2 = [3, \"Jose\",5,\"Costanza\",True]"
      ],
      "metadata": {
        "id": "mZ04CSKx3CPo"
      },
      "execution_count": null,
      "outputs": []
    },
    {
      "cell_type": "code",
      "source": [
        "L2"
      ],
      "metadata": {
        "colab": {
          "base_uri": "https://localhost:8080/"
        },
        "id": "0Z9sAAaO3P3K",
        "outputId": "fbfe3551-df0b-4f84-8527-2b1bd1c93614"
      },
      "execution_count": null,
      "outputs": [
        {
          "output_type": "execute_result",
          "data": {
            "text/plain": [
              "[3, 'Jose', 5, 'Costanza', True]"
            ]
          },
          "metadata": {},
          "execution_count": 41
        }
      ]
    },
    {
      "cell_type": "code",
      "source": [
        "L2[0]"
      ],
      "metadata": {
        "colab": {
          "base_uri": "https://localhost:8080/"
        },
        "id": "mKxms0-s3bAc",
        "outputId": "683c751b-284b-4eeb-df59-74ae96d27a39"
      },
      "execution_count": null,
      "outputs": [
        {
          "output_type": "execute_result",
          "data": {
            "text/plain": [
              "3"
            ]
          },
          "metadata": {},
          "execution_count": 42
        }
      ]
    },
    {
      "cell_type": "code",
      "source": [
        "L2.append(\"Elvin\")"
      ],
      "metadata": {
        "id": "svY1CMpT4JPp"
      },
      "execution_count": null,
      "outputs": []
    },
    {
      "cell_type": "code",
      "source": [
        "L2"
      ],
      "metadata": {
        "colab": {
          "base_uri": "https://localhost:8080/"
        },
        "id": "GXNOdDel4U0l",
        "outputId": "e6374357-fe8b-4d50-ed01-5ee5b98b16e8"
      },
      "execution_count": null,
      "outputs": [
        {
          "output_type": "execute_result",
          "data": {
            "text/plain": [
              "[3, 'Jose', 5, 'Costanza', True, 'Elvin']"
            ]
          },
          "metadata": {},
          "execution_count": 44
        }
      ]
    },
    {
      "cell_type": "code",
      "source": [
        "L2.append([\"Majd\",\"Carla\"])"
      ],
      "metadata": {
        "id": "d6mgbn3F4iCf"
      },
      "execution_count": null,
      "outputs": []
    },
    {
      "cell_type": "code",
      "source": [
        "L2.insert(3,\"Davud\")"
      ],
      "metadata": {
        "id": "hNyrKrX_5Dz8"
      },
      "execution_count": null,
      "outputs": []
    },
    {
      "cell_type": "code",
      "source": [
        "L2"
      ],
      "metadata": {
        "colab": {
          "base_uri": "https://localhost:8080/"
        },
        "id": "MtYhrndr5n2f",
        "outputId": "6cf918bb-3b5f-4b61-e973-467db035f1d6"
      },
      "execution_count": null,
      "outputs": [
        {
          "output_type": "execute_result",
          "data": {
            "text/plain": [
              "[3, 'Jose', 5, 'Davud', 'Costanza', True, 'Elvin', ['Majd', 'Carla']]"
            ]
          },
          "metadata": {},
          "execution_count": 47
        }
      ]
    },
    {
      "cell_type": "markdown",
      "source": [
        "### Now let's think about our problem !"
      ],
      "metadata": {
        "id": "46Ea-AWa57VJ"
      }
    },
    {
      "cell_type": "code",
      "source": [
        "L_R1 = 0.004\n",
        "A_R1 = 1.2\n",
        "k_R1= 0.78\n",
        "name_R1= \"R_glass\"\n",
        "type_R1 = \"cond\"\n",
        "R1 =  [L_R1,A_R1,k_R1,name_R1,type_R1]"
      ],
      "metadata": {
        "id": "0dMinaAl6eSn"
      },
      "execution_count": null,
      "outputs": []
    },
    {
      "cell_type": "code",
      "source": [
        "R1"
      ],
      "metadata": {
        "colab": {
          "base_uri": "https://localhost:8080/"
        },
        "id": "joggFFtZ61TV",
        "outputId": "732bd294-a559-47fc-e72a-38703d131042"
      },
      "execution_count": null,
      "outputs": [
        {
          "output_type": "execute_result",
          "data": {
            "text/plain": [
              "[0.004, 1.2, 0.78, 'R_glass', 'cond']"
            ]
          },
          "metadata": {},
          "execution_count": 49
        }
      ]
    },
    {
      "cell_type": "code",
      "source": [
        "RValue_R1= round(L_R1/(k_R1*A_R1),4)"
      ],
      "metadata": {
        "id": "wIt0xkni9f7h"
      },
      "execution_count": null,
      "outputs": []
    },
    {
      "cell_type": "code",
      "source": [
        "RValue_R1"
      ],
      "metadata": {
        "colab": {
          "base_uri": "https://localhost:8080/"
        },
        "id": "OLzMCKpt9uc6",
        "outputId": "34af0039-2eac-4b0a-f4ff-6397a2d4efba"
      },
      "execution_count": null,
      "outputs": [
        {
          "output_type": "execute_result",
          "data": {
            "text/plain": [
              "0.0043"
            ]
          },
          "metadata": {},
          "execution_count": 51
        }
      ]
    },
    {
      "cell_type": "code",
      "source": [
        "R1.append(RValue_R1)"
      ],
      "metadata": {
        "id": "3yBnIQhQ96TQ"
      },
      "execution_count": null,
      "outputs": []
    },
    {
      "cell_type": "code",
      "source": [
        "R1"
      ],
      "metadata": {
        "colab": {
          "base_uri": "https://localhost:8080/"
        },
        "id": "Tq442wBb99gr",
        "outputId": "c168a575-19dc-4e7e-9594-83120c1f810a"
      },
      "execution_count": null,
      "outputs": [
        {
          "output_type": "execute_result",
          "data": {
            "text/plain": [
              "[0.004, 1.2, 0.78, 'R_glass', 'cond', 0.0043]"
            ]
          },
          "metadata": {},
          "execution_count": 53
        }
      ]
    },
    {
      "cell_type": "code",
      "source": [
        "L_R1 = 0.004\n",
        "A_R1 = 1.2\n",
        "k_R1= 0.78\n",
        "name_R1= \"R_glass\"\n",
        "type_R1 = \"cond\"\n",
        "R1_mod=  [L_R1,A_R1,k_R1,name_R1,type_R1]"
      ],
      "metadata": {
        "id": "nklen4-DASaR"
      },
      "execution_count": null,
      "outputs": []
    },
    {
      "cell_type": "code",
      "source": [
        "R1_mod"
      ],
      "metadata": {
        "colab": {
          "base_uri": "https://localhost:8080/"
        },
        "id": "pLBwkzrMAeBf",
        "outputId": "0bdc8c1f-9060-4723-cbdf-2ce9d2672f66"
      },
      "execution_count": null,
      "outputs": [
        {
          "output_type": "execute_result",
          "data": {
            "text/plain": [
              "[0.004, 1.2, 0.78, 'R_glass', 'cond']"
            ]
          },
          "metadata": {},
          "execution_count": 55
        }
      ]
    },
    {
      "cell_type": "code",
      "source": [
        "R2=[0.01,1.2,0.026,\"R_air\",\"cond\"]\n",
        "R3=R1_mod"
      ],
      "metadata": {
        "id": "6of4iSliAgFS"
      },
      "execution_count": null,
      "outputs": []
    },
    {
      "cell_type": "code",
      "source": [
        "R3"
      ],
      "metadata": {
        "colab": {
          "base_uri": "https://localhost:8080/"
        },
        "id": "q8Trd0qpA10t",
        "outputId": "345c39d0-e2e0-4137-ef2b-0e2a9c2a96bb"
      },
      "execution_count": null,
      "outputs": [
        {
          "output_type": "execute_result",
          "data": {
            "text/plain": [
              "[0.004, 1.2, 0.78, 'R_glass', 'cond']"
            ]
          },
          "metadata": {},
          "execution_count": 57
        }
      ]
    },
    {
      "cell_type": "code",
      "source": [
        "listOfResistances= [R1_mod,R2,R3]"
      ],
      "metadata": {
        "id": "3Uu3TtoPA-E5"
      },
      "execution_count": null,
      "outputs": []
    },
    {
      "cell_type": "code",
      "source": [
        "R4  = [10,1.2,\"R_conv_in\",\"conv\"]"
      ],
      "metadata": {
        "id": "6Ka5WWtIE5Xr"
      },
      "execution_count": null,
      "outputs": []
    },
    {
      "cell_type": "code",
      "source": [
        "listOfResistances"
      ],
      "metadata": {
        "colab": {
          "base_uri": "https://localhost:8080/"
        },
        "id": "MqhZy5nwBMuB",
        "outputId": "c5131c87-0722-4aa5-f805-1ad88e554ef0"
      },
      "execution_count": null,
      "outputs": [
        {
          "output_type": "execute_result",
          "data": {
            "text/plain": [
              "[[0.004, 1.2, 0.78, 'R_glass', 'cond'],\n",
              " [0.01, 1.2, 0.026, 'R_air', 'cond'],\n",
              " [0.004, 1.2, 0.78, 'R_glass', 'cond']]"
            ]
          },
          "metadata": {},
          "execution_count": 60
        }
      ]
    },
    {
      "cell_type": "code",
      "source": [
        "R1=  [0.004, 1.2, 0.78, \"R_glass\",\"cond\"]\n",
        "R2=[0.01,1.2,0.026,\"R_air\",\"cond\"]\n",
        "R3= [0.004, 1.2, 0.78, \"R_glass\",\"cond\"]\n",
        "#define R4 and R5\n",
        "listOfResistances=[R1,R2,R3]\n",
        "for thisResitance  in listOfResistances:\n",
        "  R_thisResistance = round(thisResitance[0]/(thisResitance[2]*thisResitance[1]),4)\n",
        "  thisResitance.append(R_thisResistance)\n",
        "  print(R_thisResistance)\n",
        "  print(\"now I am going to the next item\")\n",
        "print(listOfResistances)"
      ],
      "metadata": {
        "colab": {
          "base_uri": "https://localhost:8080/"
        },
        "id": "Lr0LKUMBBQXC",
        "outputId": "8e61f22d-f63b-44c2-80ee-e7a74ac79093"
      },
      "execution_count": null,
      "outputs": [
        {
          "output_type": "stream",
          "name": "stdout",
          "text": [
            "0.0043\n",
            "now I am going to the next item\n",
            "0.3205\n",
            "now I am going to the next item\n",
            "0.0043\n",
            "now I am going to the next item\n",
            "[[0.004, 1.2, 0.78, 'R_glass', 'cond', 0.0043], [0.01, 1.2, 0.026, 'R_air', 'cond', 0.3205], [0.004, 1.2, 0.78, 'R_glass', 'cond', 0.0043]]\n"
          ]
        }
      ]
    },
    {
      "cell_type": "code",
      "source": [
        "listOfResistances"
      ],
      "metadata": {
        "colab": {
          "base_uri": "https://localhost:8080/"
        },
        "id": "UQSyZ4p7DMhn",
        "outputId": "28794982-ce2a-4115-8929-4d121a103a1c"
      },
      "execution_count": null,
      "outputs": [
        {
          "output_type": "execute_result",
          "data": {
            "text/plain": [
              "[[0.004, 1.2, 0.78, 'R_glass', 'cond', 0.0043],\n",
              " [0.01, 1.2, 0.026, 'R_air', 'cond', 0.3205],\n",
              " [0.004, 1.2, 0.78, 'R_glass', 'cond', 0.0043]]"
            ]
          },
          "metadata": {},
          "execution_count": 62
        }
      ]
    },
    {
      "cell_type": "code",
      "source": [
        "L1=0.03\n",
        "k1=0.8\n",
        "A1=12\n",
        "RValue1=L1/(k1*A1)"
      ],
      "metadata": {
        "id": "tP-T4zgHeXVr"
      },
      "execution_count": null,
      "outputs": []
    },
    {
      "cell_type": "code",
      "source": [
        "RValue1"
      ],
      "metadata": {
        "colab": {
          "base_uri": "https://localhost:8080/"
        },
        "id": "sCe2j_8Eejdy",
        "outputId": "ee59ffb9-659f-4e10-edfb-975f02a144dc"
      },
      "execution_count": null,
      "outputs": [
        {
          "output_type": "execute_result",
          "data": {
            "text/plain": [
              "0.0031249999999999993"
            ]
          },
          "metadata": {},
          "execution_count": 83
        }
      ]
    },
    {
      "cell_type": "code",
      "source": [
        "L1=0.09"
      ],
      "metadata": {
        "id": "vRRl175xelGE"
      },
      "execution_count": null,
      "outputs": []
    },
    {
      "cell_type": "code",
      "source": [
        "RValue1"
      ],
      "metadata": {
        "colab": {
          "base_uri": "https://localhost:8080/"
        },
        "id": "j7bpc5Yxepiz",
        "outputId": "f014ccda-f560-4599-98cc-839b174935e3"
      },
      "execution_count": null,
      "outputs": [
        {
          "output_type": "execute_result",
          "data": {
            "text/plain": [
              "0.0031249999999999993"
            ]
          },
          "metadata": {},
          "execution_count": 86
        }
      ]
    },
    {
      "cell_type": "code",
      "source": [
        "R1= [L1,k1,A1,RValue1]"
      ],
      "metadata": {
        "id": "1TIgZ6qeerHQ"
      },
      "execution_count": null,
      "outputs": []
    },
    {
      "cell_type": "code",
      "source": [
        "R1"
      ],
      "metadata": {
        "colab": {
          "base_uri": "https://localhost:8080/"
        },
        "id": "AwpPkSeoe9Ic",
        "outputId": "72f331ce-9be3-4d98-a08f-9bea10e6a065"
      },
      "execution_count": null,
      "outputs": [
        {
          "output_type": "execute_result",
          "data": {
            "text/plain": [
              "[0.09, 0.8, 12, 0.0031249999999999993]"
            ]
          },
          "metadata": {},
          "execution_count": 95
        }
      ]
    },
    {
      "cell_type": "code",
      "source": [
        "R2=R1"
      ],
      "metadata": {
        "id": "LELsSzUje-WU"
      },
      "execution_count": null,
      "outputs": []
    },
    {
      "cell_type": "code",
      "source": [
        "R2"
      ],
      "metadata": {
        "colab": {
          "base_uri": "https://localhost:8080/"
        },
        "id": "mi-SePFGfB9w",
        "outputId": "755c50ff-d5d5-4354-d53c-36204a86f167"
      },
      "execution_count": null,
      "outputs": [
        {
          "output_type": "execute_result",
          "data": {
            "text/plain": [
              "[0.09, 0.8, 12, 0.0031249999999999993]"
            ]
          },
          "metadata": {},
          "execution_count": 97
        }
      ]
    },
    {
      "cell_type": "code",
      "source": [
        "R1[-1]=0.2"
      ],
      "metadata": {
        "id": "bDFe5zSffhzt"
      },
      "execution_count": null,
      "outputs": []
    },
    {
      "cell_type": "code",
      "source": [
        "R1"
      ],
      "metadata": {
        "colab": {
          "base_uri": "https://localhost:8080/"
        },
        "id": "jiO76TlsfmcH",
        "outputId": "88f709ff-6830-4eee-aaad-6f676c67fad0"
      },
      "execution_count": null,
      "outputs": [
        {
          "output_type": "execute_result",
          "data": {
            "text/plain": [
              "[0.09, 0.8, 12, 0.2]"
            ]
          },
          "metadata": {},
          "execution_count": 99
        }
      ]
    },
    {
      "cell_type": "code",
      "source": [
        "R2"
      ],
      "metadata": {
        "id": "lyXZJs7SftCR",
        "outputId": "ce94354b-3c31-4764-9858-f8b3ae3bb13a",
        "colab": {
          "base_uri": "https://localhost:8080/"
        }
      },
      "execution_count": null,
      "outputs": [
        {
          "output_type": "execute_result",
          "data": {
            "text/plain": [
              "[0.09, 0.8, 12, 0.2]"
            ]
          },
          "metadata": {},
          "execution_count": 100
        }
      ]
    }
  ]
}
{
  "nbformat": 4,
  "nbformat_minor": 0,
  "metadata": {
    "colab": {
      "provenance": []
    },
    "kernelspec": {
      "name": "python3",
      "display_name": "Python 3"
    },
    "language_info": {
      "name": "python"
    }
  },
  "cells": [
    {
      "cell_type": "code",
      "execution_count": null,
      "metadata": {
        "id": "7o8qtf0O_E_C"
      },
      "outputs": [],
      "source": [
        "#Assignment 2\n",
        "materialsLibrary = {\"WoodBevelL\":{\"standardLength\":0.13,\"RValue\":0.14}, \"WoodFiberBoard\":{\"standardLength\":0.13,\"RValue\":0.23}, \"WoodStuds\":{\"standardLength\":0.9,\"RValue\":0.63}, \"GlassFiberInsulation\":{\"standardLength\":0.25,\"RValue\":0.7}, \"Gypsum\":{\"standardLength\":0.13,\"RValue\":0.079}, \"InsideAirConvection\":{\"RValue\":0.12}, \"OutsideAirConvection\":{\"RValue\":0.03},}"
      ]
    },
    {
      "cell_type": "code",
      "source": [
        "materialsLibrary [\"WoodBevelL\"][\"RValue\"]"
      ],
      "metadata": {
        "colab": {
          "base_uri": "https://localhost:8080/"
        },
        "id": "aaSfeS4WBve4",
        "outputId": "57993477-e20d-4247-bf3a-4f316dfb23d6"
      },
      "execution_count": null,
      "outputs": [
        {
          "output_type": "execute_result",
          "data": {
            "text/plain": [
              "0.14"
            ]
          },
          "metadata": {},
          "execution_count": 20
        }
      ]
    },
    {
      "cell_type": "code",
      "source": [
        "newResistance= {\"name\":\"R1\",\"material\":\"GlassFiberInsulation\",\"length\":0.9}\n",
        "RValue_thisResistance= materialsLibrary[newResistance[\"material\"]][\"RValue\"]/materialsLibrary[newResistance[\"material\"]][\"standardLength\"]*newResistance[\"length\"]\n",
        "RValue_thisResistance"
      ],
      "metadata": {
        "colab": {
          "base_uri": "https://localhost:8080/"
        },
        "id": "prjXD43UB18j",
        "outputId": "a19442b2-b36c-4c12-dfa2-a11513f54e36"
      },
      "execution_count": null,
      "outputs": [
        {
          "output_type": "execute_result",
          "data": {
            "text/plain": [
              "2.52"
            ]
          },
          "metadata": {},
          "execution_count": 21
        }
      ]
    },
    {
      "cell_type": "code",
      "source": [
        "# Find R'_withWood\n",
        "R_period_withWood = materialsLibrary [\"WoodBevelL\"][\"RValue\"] + materialsLibrary [\"WoodFiberBoard\"][\"RValue\"] + materialsLibrary [\"WoodStuds\"][\"RValue\"] + materialsLibrary [\"Gypsum\"][\"RValue\"] + materialsLibrary [\"InsideAirConvection\"][\"RValue\"] + materialsLibrary [\"OutsideAirConvection\"][\"RValue\"]\n",
        "R_period_withWood = round( R_period_withWood, 3)\n",
        "R_period_withWood"
      ],
      "metadata": {
        "colab": {
          "base_uri": "https://localhost:8080/"
        },
        "id": "tsJsi3tVCO6U",
        "outputId": "c2bc97d1-7211-47a9-fdf0-a10bd982ddfc"
      },
      "execution_count": null,
      "outputs": [
        {
          "output_type": "execute_result",
          "data": {
            "text/plain": [
              "1.229"
            ]
          },
          "metadata": {},
          "execution_count": 24
        }
      ]
    },
    {
      "cell_type": "code",
      "source": [
        "# Find R'_withInsulation\n",
        "R_period_withInsulation = materialsLibrary [\"WoodBevelL\"][\"RValue\"] + materialsLibrary [\"WoodFiberBoard\"][\"RValue\"] + RValue_thisResistance + materialsLibrary [\"Gypsum\"][\"RValue\"] + materialsLibrary [\"InsideAirConvection\"][\"RValue\"] + materialsLibrary [\"OutsideAirConvection\"][\"RValue\"]\n",
        "R_period_withInsulation = round( R_period_withInsulation, 3)\n",
        "R_period_withInsulation"
      ],
      "metadata": {
        "colab": {
          "base_uri": "https://localhost:8080/"
        },
        "id": "kuUZRCcOEiLw",
        "outputId": "d0efef6b-8e60-476a-bd81-187c90123be2"
      },
      "execution_count": null,
      "outputs": [
        {
          "output_type": "execute_result",
          "data": {
            "text/plain": [
              "3.119"
            ]
          },
          "metadata": {},
          "execution_count": 25
        }
      ]
    },
    {
      "cell_type": "code",
      "source": [
        "#Another data for calculation\n",
        "fWood = 0.25\n",
        "fInsulation = 0.75\n",
        "A_tot = 50*2.5*0.8 #0.8 because 20% is occupied by windows\n",
        "deltaT = 24 #difference of temperatures in and out"
      ],
      "metadata": {
        "id": "PnraAHiVGcMr"
      },
      "execution_count": null,
      "outputs": []
    },
    {
      "cell_type": "code",
      "source": [
        "U_withWood = round(1/ R_period_withWood, 4)\n",
        "U_withInsulation = round(1/ R_period_withInsulation, 4)"
      ],
      "metadata": {
        "id": "DjpWep8eVvC9"
      },
      "execution_count": null,
      "outputs": []
    },
    {
      "cell_type": "code",
      "source": [
        "U_tot = round(fWood*U_withWood + fInsulation*U_withInsulation, 4)"
      ],
      "metadata": {
        "id": "qshnAIezVyqL"
      },
      "execution_count": null,
      "outputs": []
    },
    {
      "cell_type": "code",
      "source": [
        "# Heat losses through the wall\n",
        "Q = round(U_tot*A_tot*deltaT, 1)\n",
        "Q"
      ],
      "metadata": {
        "colab": {
          "base_uri": "https://localhost:8080/"
        },
        "id": "rgaSUm5uV1Xt",
        "outputId": "7751d44c-2f1a-4ea7-9c0a-0bc6db3d4764"
      },
      "execution_count": null,
      "outputs": [
        {
          "output_type": "execute_result",
          "data": {
            "text/plain": [
              "1065.4"
            ]
          },
          "metadata": {},
          "execution_count": 29
        }
      ]
    }
  ]
}